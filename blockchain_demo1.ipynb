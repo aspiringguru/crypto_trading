{
 "cells": [
  {
   "cell_type": "code",
   "execution_count": 2,
   "metadata": {},
   "outputs": [],
   "source": [
    "#based on\n",
    "#https://github.com/annamcabee/Block-Chain/blob/master/blockchain.py\n",
    "#broken - pending finding a fix."
   ]
  },
  {
   "cell_type": "code",
   "execution_count": 3,
   "metadata": {
    "collapsed": true
   },
   "outputs": [],
   "source": [
    "import json\n",
    "import hashlib"
   ]
  },
  {
   "cell_type": "code",
   "execution_count": 5,
   "metadata": {},
   "outputs": [],
   "source": [
    "# Block Object\n",
    "class Block:\n",
    "    def __init__(self, index, timestamp, data, previousHash=' '):\n",
    "        self.index = index\n",
    "        self.timestamp = timestamp\n",
    "        self.data = data\n",
    "        self.previousHash = previousHash\n",
    "        self.hash = self.calculateHash()\n",
    "\n",
    "    def calculateHash(self):\n",
    "        return hashlib.sha256(str(self.index) + self.previousHash + self.timestamp + json.dumps(self.data)).hexdigest()\n",
    "\n",
    "    def printBlock(self):\n",
    "        print (\"Block #\" + str(self.index))\n",
    "        print (\"Account: \" + str(self.data[\"account\"]))\n",
    "        print (\"Amount: \" + str(self.data[\"amount\"]))\n",
    "        print (\"Block Hash: \" + str(self.hash))\n",
    "        print (\"Block Previous Hash: \" + str(self.previousHash))\n",
    "        print (\"---------------\")\n"
   ]
  },
  {
   "cell_type": "code",
   "execution_count": 6,
   "metadata": {
    "collapsed": true
   },
   "outputs": [],
   "source": [
    "# Block Chain Object\n",
    "class BlockChain:\n",
    "    def __init__(self):\n",
    "        self.chain = [self.createGenesisBlock()]\n",
    "\n",
    "    def createGenesisBlock(self):\n",
    "        return Block(0, \"10/01/2017\", \"Genesis Block\", \"0\")\n",
    "\n",
    "    def getLatestBlock(self):\n",
    "        return self.chain[len(self.chain)-1]\n",
    "\n",
    "    def addBlock(self, newBlock):\n",
    "        newBlock.previousHash = self.getLatestBlock().hash\n",
    "        newBlock.hash = newBlock.calculateHash()\n",
    "        self.chain.append(newBlock)\n",
    "\n",
    "    def isChainValid(self):\n",
    "        for i in range (1, len(self.chain)):\n",
    "            currentBlock = self.chain[i]\n",
    "            previousBlock = self.chain[i-1]\n",
    "            # checks whether data has been tampered with\n",
    "            if currentBlock.hash != currentBlock.calculateHash():\n",
    "                return False\n",
    "            if currentBlock.previousHash != previousBlock.hash:\n",
    "                return False\n",
    "        return True\n",
    "\n",
    "    def printBlockChain(self):\n",
    "        for i in range(1, len(self.chain)):\n",
    "            self.chain[i].printBlock()"
   ]
  },
  {
   "cell_type": "code",
   "execution_count": 11,
   "metadata": {},
   "outputs": [
    {
     "ename": "TypeError",
     "evalue": "Unicode-objects must be encoded before hashing",
     "output_type": "error",
     "traceback": [
      "\u001b[1;31m---------------------------------------------------------------------------\u001b[0m",
      "\u001b[1;31mTypeError\u001b[0m                                 Traceback (most recent call last)",
      "\u001b[1;32m<ipython-input-11-e699f760b1cd>\u001b[0m in \u001b[0;36m<module>\u001b[1;34m()\u001b[0m\n\u001b[1;32m----> 1\u001b[1;33m \u001b[0mannaCoin\u001b[0m \u001b[1;33m=\u001b[0m \u001b[0mBlockChain\u001b[0m\u001b[1;33m(\u001b[0m\u001b[1;33m)\u001b[0m\u001b[1;33m\u001b[0m\u001b[0m\n\u001b[0m\u001b[0;32m      2\u001b[0m \u001b[0mannaCoin\u001b[0m\u001b[1;33m.\u001b[0m\u001b[0maddBlock\u001b[0m\u001b[1;33m(\u001b[0m\u001b[0mBlock\u001b[0m\u001b[1;33m(\u001b[0m\u001b[1;36m1\u001b[0m\u001b[1;33m,\u001b[0m \u001b[1;34m\"10/10/2017\"\u001b[0m\u001b[1;33m,\u001b[0m \u001b[1;33m{\u001b[0m\u001b[1;34m\"account\"\u001b[0m\u001b[1;33m:\u001b[0m \u001b[1;34m\"Anna\"\u001b[0m\u001b[1;33m,\u001b[0m\u001b[1;34m\"amount\"\u001b[0m\u001b[1;33m:\u001b[0m \u001b[1;36m25\u001b[0m\u001b[1;33m,\u001b[0m\u001b[1;34m\"action\"\u001b[0m\u001b[1;33m:\u001b[0m \u001b[1;34m\"buy\"\u001b[0m\u001b[1;33m}\u001b[0m\u001b[1;33m)\u001b[0m\u001b[1;33m)\u001b[0m\u001b[1;33m\u001b[0m\u001b[0m\n\u001b[0;32m      3\u001b[0m \u001b[0mannaCoin\u001b[0m\u001b[1;33m.\u001b[0m\u001b[0maddBlock\u001b[0m\u001b[1;33m(\u001b[0m\u001b[0mBlock\u001b[0m\u001b[1;33m(\u001b[0m\u001b[1;36m2\u001b[0m\u001b[1;33m,\u001b[0m \u001b[1;34m\"11/01/2017\"\u001b[0m\u001b[1;33m,\u001b[0m \u001b[1;33m{\u001b[0m\u001b[1;34m\"account\"\u001b[0m\u001b[1;33m:\u001b[0m \u001b[1;34m\"Joe\"\u001b[0m\u001b[1;33m,\u001b[0m\u001b[1;34m\"amount\"\u001b[0m\u001b[1;33m:\u001b[0m \u001b[1;36m10\u001b[0m\u001b[1;33m,\u001b[0m\u001b[1;34m\"action\"\u001b[0m\u001b[1;33m:\u001b[0m \u001b[1;34m\"buy\"\u001b[0m\u001b[1;33m}\u001b[0m\u001b[1;33m)\u001b[0m\u001b[1;33m)\u001b[0m\u001b[1;33m\u001b[0m\u001b[0m\n\u001b[0;32m      4\u001b[0m \u001b[0mannaCoin\u001b[0m\u001b[1;33m.\u001b[0m\u001b[0maddBlock\u001b[0m\u001b[1;33m(\u001b[0m\u001b[0mBlock\u001b[0m\u001b[1;33m(\u001b[0m\u001b[1;36m3\u001b[0m\u001b[1;33m,\u001b[0m \u001b[1;34m\"12/01/2017\"\u001b[0m\u001b[1;33m,\u001b[0m \u001b[1;33m{\u001b[0m\u001b[1;34m\"account\"\u001b[0m\u001b[1;33m:\u001b[0m \u001b[1;34m\"Katie\"\u001b[0m\u001b[1;33m,\u001b[0m\u001b[1;34m\"amount\"\u001b[0m\u001b[1;33m:\u001b[0m \u001b[1;36m20\u001b[0m\u001b[1;33m,\u001b[0m\u001b[1;34m\"action\"\u001b[0m\u001b[1;33m:\u001b[0m \u001b[1;34m\"buy\"\u001b[0m\u001b[1;33m}\u001b[0m\u001b[1;33m)\u001b[0m\u001b[1;33m)\u001b[0m\u001b[1;33m\u001b[0m\u001b[0m\n\u001b[0;32m      5\u001b[0m \u001b[0mannaCoin\u001b[0m\u001b[1;33m.\u001b[0m\u001b[0maddBlock\u001b[0m\u001b[1;33m(\u001b[0m\u001b[0mBlock\u001b[0m\u001b[1;33m(\u001b[0m\u001b[1;36m4\u001b[0m\u001b[1;33m,\u001b[0m \u001b[1;34m\"12/07/2017\"\u001b[0m\u001b[1;33m,\u001b[0m \u001b[1;33m{\u001b[0m\u001b[1;34m\"account\"\u001b[0m\u001b[1;33m:\u001b[0m \u001b[1;34m\"Ethan\"\u001b[0m\u001b[1;33m,\u001b[0m\u001b[1;34m\"amount\"\u001b[0m\u001b[1;33m:\u001b[0m \u001b[1;36m4\u001b[0m\u001b[1;33m,\u001b[0m\u001b[1;34m\"action\"\u001b[0m\u001b[1;33m:\u001b[0m \u001b[1;34m\"buy\"\u001b[0m\u001b[1;33m}\u001b[0m\u001b[1;33m)\u001b[0m\u001b[1;33m)\u001b[0m\u001b[1;33m\u001b[0m\u001b[0m\n",
      "\u001b[1;32m<ipython-input-6-7ba9de5ac93a>\u001b[0m in \u001b[0;36m__init__\u001b[1;34m(self)\u001b[0m\n\u001b[0;32m      2\u001b[0m \u001b[1;32mclass\u001b[0m \u001b[0mBlockChain\u001b[0m\u001b[1;33m:\u001b[0m\u001b[1;33m\u001b[0m\u001b[0m\n\u001b[0;32m      3\u001b[0m     \u001b[1;32mdef\u001b[0m \u001b[0m__init__\u001b[0m\u001b[1;33m(\u001b[0m\u001b[0mself\u001b[0m\u001b[1;33m)\u001b[0m\u001b[1;33m:\u001b[0m\u001b[1;33m\u001b[0m\u001b[0m\n\u001b[1;32m----> 4\u001b[1;33m         \u001b[0mself\u001b[0m\u001b[1;33m.\u001b[0m\u001b[0mchain\u001b[0m \u001b[1;33m=\u001b[0m \u001b[1;33m[\u001b[0m\u001b[0mself\u001b[0m\u001b[1;33m.\u001b[0m\u001b[0mcreateGenesisBlock\u001b[0m\u001b[1;33m(\u001b[0m\u001b[1;33m)\u001b[0m\u001b[1;33m]\u001b[0m\u001b[1;33m\u001b[0m\u001b[0m\n\u001b[0m\u001b[0;32m      5\u001b[0m \u001b[1;33m\u001b[0m\u001b[0m\n\u001b[0;32m      6\u001b[0m     \u001b[1;32mdef\u001b[0m \u001b[0mcreateGenesisBlock\u001b[0m\u001b[1;33m(\u001b[0m\u001b[0mself\u001b[0m\u001b[1;33m)\u001b[0m\u001b[1;33m:\u001b[0m\u001b[1;33m\u001b[0m\u001b[0m\n",
      "\u001b[1;32m<ipython-input-6-7ba9de5ac93a>\u001b[0m in \u001b[0;36mcreateGenesisBlock\u001b[1;34m(self)\u001b[0m\n\u001b[0;32m      5\u001b[0m \u001b[1;33m\u001b[0m\u001b[0m\n\u001b[0;32m      6\u001b[0m     \u001b[1;32mdef\u001b[0m \u001b[0mcreateGenesisBlock\u001b[0m\u001b[1;33m(\u001b[0m\u001b[0mself\u001b[0m\u001b[1;33m)\u001b[0m\u001b[1;33m:\u001b[0m\u001b[1;33m\u001b[0m\u001b[0m\n\u001b[1;32m----> 7\u001b[1;33m         \u001b[1;32mreturn\u001b[0m \u001b[0mBlock\u001b[0m\u001b[1;33m(\u001b[0m\u001b[1;36m0\u001b[0m\u001b[1;33m,\u001b[0m \u001b[1;34m\"10/01/2017\"\u001b[0m\u001b[1;33m,\u001b[0m \u001b[1;34m\"Genesis Block\"\u001b[0m\u001b[1;33m,\u001b[0m \u001b[1;34m\"0\"\u001b[0m\u001b[1;33m)\u001b[0m\u001b[1;33m\u001b[0m\u001b[0m\n\u001b[0m\u001b[0;32m      8\u001b[0m \u001b[1;33m\u001b[0m\u001b[0m\n\u001b[0;32m      9\u001b[0m     \u001b[1;32mdef\u001b[0m \u001b[0mgetLatestBlock\u001b[0m\u001b[1;33m(\u001b[0m\u001b[0mself\u001b[0m\u001b[1;33m)\u001b[0m\u001b[1;33m:\u001b[0m\u001b[1;33m\u001b[0m\u001b[0m\n",
      "\u001b[1;32m<ipython-input-5-701d8c8f227e>\u001b[0m in \u001b[0;36m__init__\u001b[1;34m(self, index, timestamp, data, previousHash)\u001b[0m\n\u001b[0;32m      6\u001b[0m         \u001b[0mself\u001b[0m\u001b[1;33m.\u001b[0m\u001b[0mdata\u001b[0m \u001b[1;33m=\u001b[0m \u001b[0mdata\u001b[0m\u001b[1;33m\u001b[0m\u001b[0m\n\u001b[0;32m      7\u001b[0m         \u001b[0mself\u001b[0m\u001b[1;33m.\u001b[0m\u001b[0mpreviousHash\u001b[0m \u001b[1;33m=\u001b[0m \u001b[0mpreviousHash\u001b[0m\u001b[1;33m\u001b[0m\u001b[0m\n\u001b[1;32m----> 8\u001b[1;33m         \u001b[0mself\u001b[0m\u001b[1;33m.\u001b[0m\u001b[0mhash\u001b[0m \u001b[1;33m=\u001b[0m \u001b[0mself\u001b[0m\u001b[1;33m.\u001b[0m\u001b[0mcalculateHash\u001b[0m\u001b[1;33m(\u001b[0m\u001b[1;33m)\u001b[0m\u001b[1;33m\u001b[0m\u001b[0m\n\u001b[0m\u001b[0;32m      9\u001b[0m \u001b[1;33m\u001b[0m\u001b[0m\n\u001b[0;32m     10\u001b[0m     \u001b[1;32mdef\u001b[0m \u001b[0mcalculateHash\u001b[0m\u001b[1;33m(\u001b[0m\u001b[0mself\u001b[0m\u001b[1;33m)\u001b[0m\u001b[1;33m:\u001b[0m\u001b[1;33m\u001b[0m\u001b[0m\n",
      "\u001b[1;32m<ipython-input-5-701d8c8f227e>\u001b[0m in \u001b[0;36mcalculateHash\u001b[1;34m(self)\u001b[0m\n\u001b[0;32m      9\u001b[0m \u001b[1;33m\u001b[0m\u001b[0m\n\u001b[0;32m     10\u001b[0m     \u001b[1;32mdef\u001b[0m \u001b[0mcalculateHash\u001b[0m\u001b[1;33m(\u001b[0m\u001b[0mself\u001b[0m\u001b[1;33m)\u001b[0m\u001b[1;33m:\u001b[0m\u001b[1;33m\u001b[0m\u001b[0m\n\u001b[1;32m---> 11\u001b[1;33m         \u001b[1;32mreturn\u001b[0m \u001b[0mhashlib\u001b[0m\u001b[1;33m.\u001b[0m\u001b[0msha256\u001b[0m\u001b[1;33m(\u001b[0m\u001b[0mstr\u001b[0m\u001b[1;33m(\u001b[0m\u001b[0mself\u001b[0m\u001b[1;33m.\u001b[0m\u001b[0mindex\u001b[0m\u001b[1;33m)\u001b[0m \u001b[1;33m+\u001b[0m \u001b[0mself\u001b[0m\u001b[1;33m.\u001b[0m\u001b[0mpreviousHash\u001b[0m \u001b[1;33m+\u001b[0m \u001b[0mself\u001b[0m\u001b[1;33m.\u001b[0m\u001b[0mtimestamp\u001b[0m \u001b[1;33m+\u001b[0m \u001b[0mjson\u001b[0m\u001b[1;33m.\u001b[0m\u001b[0mdumps\u001b[0m\u001b[1;33m(\u001b[0m\u001b[0mself\u001b[0m\u001b[1;33m.\u001b[0m\u001b[0mdata\u001b[0m\u001b[1;33m)\u001b[0m\u001b[1;33m)\u001b[0m\u001b[1;33m.\u001b[0m\u001b[0mhexdigest\u001b[0m\u001b[1;33m(\u001b[0m\u001b[1;33m)\u001b[0m\u001b[1;33m\u001b[0m\u001b[0m\n\u001b[0m\u001b[0;32m     12\u001b[0m \u001b[1;33m\u001b[0m\u001b[0m\n\u001b[0;32m     13\u001b[0m     \u001b[1;32mdef\u001b[0m \u001b[0mprintBlock\u001b[0m\u001b[1;33m(\u001b[0m\u001b[0mself\u001b[0m\u001b[1;33m)\u001b[0m\u001b[1;33m:\u001b[0m\u001b[1;33m\u001b[0m\u001b[0m\n",
      "\u001b[1;31mTypeError\u001b[0m: Unicode-objects must be encoded before hashing"
     ]
    }
   ],
   "source": [
    "annaCoin = BlockChain()\n",
    "annaCoin.addBlock(Block(1, \"10/10/2017\", {\"account\": \"Anna\",\"amount\": 25,\"action\": \"buy\"}))\n",
    "annaCoin.addBlock(Block(2, \"11/01/2017\", {\"account\": \"Joe\",\"amount\": 10,\"action\": \"buy\"}))\n",
    "annaCoin.addBlock(Block(3, \"12/01/2017\", {\"account\": \"Katie\",\"amount\": 20,\"action\": \"buy\"}))\n",
    "annaCoin.addBlock(Block(4, \"12/07/2017\", {\"account\": \"Ethan\",\"amount\": 4,\"action\": \"buy\"}))\n",
    "annaCoin.printBlockChain()\n",
    "# no tampering in our block chain yet so should be true here\n",
    "print (\"Chain valid? \" + str(annaCoin.isChainValid()))\n",
    "# now lets tamper the block chain and see what happens\n",
    "annaCoin.chain[1].data = {\"account\": \"Anna\",\"amount\": 100,\"action\": \"buy\"}\n",
    "print (\"Chain valid? \" + str(annaCoin.isChainValid()))\n"
   ]
  },
  {
   "cell_type": "code",
   "execution_count": null,
   "metadata": {
    "collapsed": true
   },
   "outputs": [],
   "source": []
  }
 ],
 "metadata": {
  "kernelspec": {
   "display_name": "Python 3",
   "language": "python",
   "name": "python3"
  },
  "language_info": {
   "codemirror_mode": {
    "name": "ipython",
    "version": 3
   },
   "file_extension": ".py",
   "mimetype": "text/x-python",
   "name": "python",
   "nbconvert_exporter": "python",
   "pygments_lexer": "ipython3",
   "version": "3.6.1"
  }
 },
 "nbformat": 4,
 "nbformat_minor": 2
}
